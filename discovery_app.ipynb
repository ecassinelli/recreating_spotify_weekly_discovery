{
  "nbformat": 4,
  "nbformat_minor": 0,
  "metadata": {
    "colab": {
      "name": "bigdata_final_project.ipynb",
      "provenance": [],
      "collapsed_sections": []
    },
    "kernelspec": {
      "name": "python3",
      "display_name": "Python 3"
    }
  },
  "cells": [
    {
      "cell_type": "markdown",
      "metadata": {
        "id": "yFbLfuQON346",
        "colab_type": "text"
      },
      "source": [
        "# Installing Spark"
      ]
    },
    {
      "cell_type": "code",
      "metadata": {
        "id": "FHZK8XtsNYO1",
        "colab_type": "code",
        "colab": {}
      },
      "source": [
        "!apt-get install openjdk-8-jdk-headless -qq > /dev/null\n",
        "!wget -q http://apache.mirror.rafal.ca/spark/spark-2.4.5/spark-2.4.5-bin-hadoop2.7.tgz\n",
        "!tar xf spark-2.4.5-bin-hadoop2.7.tgz\n",
        "!pip install -q findspark"
      ],
      "execution_count": 0,
      "outputs": []
    },
    {
      "cell_type": "markdown",
      "metadata": {
        "id": "Xl4GDAaJ9zN_",
        "colab_type": "text"
      },
      "source": [
        "# Mounting Google Drive to notebook"
      ]
    },
    {
      "cell_type": "code",
      "metadata": {
        "id": "8OqwKt5CNzkA",
        "colab_type": "code",
        "outputId": "cc420016-6723-4e8a-959f-438a5d6fc418",
        "colab": {
          "base_uri": "https://localhost:8080/",
          "height": 122
        }
      },
      "source": [
        "from google.colab import drive\n",
        "drive.mount('/content/drive')"
      ],
      "execution_count": 2,
      "outputs": [
        {
          "output_type": "stream",
          "text": [
            "Go to this URL in a browser: https://accounts.google.com/o/oauth2/auth?client_id=947318989803-6bn6qk8qdgf4n4g3pfee6491hc0brc4i.apps.googleusercontent.com&redirect_uri=urn%3aietf%3awg%3aoauth%3a2.0%3aoob&response_type=code&scope=email%20https%3a%2f%2fwww.googleapis.com%2fauth%2fdocs.test%20https%3a%2f%2fwww.googleapis.com%2fauth%2fdrive%20https%3a%2f%2fwww.googleapis.com%2fauth%2fdrive.photos.readonly%20https%3a%2f%2fwww.googleapis.com%2fauth%2fpeopleapi.readonly\n",
            "\n",
            "Enter your authorization code:\n",
            "··········\n",
            "Mounted at /content/drive\n"
          ],
          "name": "stdout"
        }
      ]
    },
    {
      "cell_type": "markdown",
      "metadata": {
        "id": "AkAUQj-0-Dh3",
        "colab_type": "text"
      },
      "source": [
        "# Importing necessary libraries from spark, including mllib and recommendation module"
      ]
    },
    {
      "cell_type": "code",
      "metadata": {
        "id": "srRwV9s5UmvL",
        "colab_type": "code",
        "colab": {}
      },
      "source": [
        "import os\n",
        "import findspark\n",
        "os.environ[\"JAVA_HOME\"] = \"/usr/lib/jvm/java-8-openjdk-amd64\"\n",
        "os.environ[\"SPARK_HOME\"] = \"/content/spark-2.4.5-bin-hadoop2.7\"\n",
        "findspark.init()\n",
        "\n",
        "import math\n",
        "\n",
        "from pyspark import SparkContext\n",
        "from pyspark.sql import SQLContext\n",
        "from pyspark import SparkConf\n",
        "from pyspark.mllib import recommendation\n",
        "from pyspark.mllib.recommendation import *\n",
        "\n",
        "sc = SparkContext()\n",
        "sqlContext = SQLContext(sc)"
      ],
      "execution_count": 0,
      "outputs": []
    },
    {
      "cell_type": "markdown",
      "metadata": {
        "id": "PZmtJQtS-h7A",
        "colab_type": "text"
      },
      "source": [
        "# Storing each dataset to its corresponding variable"
      ]
    },
    {
      "cell_type": "code",
      "metadata": {
        "id": "L4MD9-Z42-qF",
        "colab_type": "code",
        "colab": {}
      },
      "source": [
        "artist_data = sc.textFile('/content/drive/My Drive/CMIS550-TermProject/artist_dataset.txt')\n",
        "artist_alias = sc.textFile('/content/drive/My Drive/CMIS550-TermProject/artist_alias_dataset.txt')\n",
        "user_artist_data = sc.textFile('/content/drive/My Drive/CMIS550-TermProject/user_artist_dataset.txt')"
      ],
      "execution_count": 0,
      "outputs": []
    },
    {
      "cell_type": "markdown",
      "metadata": {
        "id": "mNs1rk_g_Ond",
        "colab_type": "text"
      },
      "source": [
        "# Defining functions to process the data"
      ]
    },
    {
      "cell_type": "code",
      "metadata": {
        "id": "z6LsKmgH_PDk",
        "colab_type": "code",
        "colab": {}
      },
      "source": [
        "# This function will return a tuple with the ID of the artist converted\n",
        "# into integer and the name of the artist.\n",
        "def artist_info(data_set):\n",
        "  artist_pair = data_set.split('\\t')\n",
        "  for i in range(len(artist_pair)):\n",
        "    artist_pair[0] = int(artist_pair[0])\n",
        "  return tuple(artist_pair)\n",
        "\n",
        "# This function will return a tuple with both IDs of the artist\n",
        "# converted into integers.\n",
        "def alias_info(data_set):\n",
        "  alias_pair = data_set.split('\\t')\n",
        "  for i in range(len(alias_pair)):\n",
        "    alias_pair[0] = int(alias_pair[0])\n",
        "    alias_pair[1] = int(alias_pair[1])\n",
        "  return tuple(alias_pair)\n",
        "\n",
        "# This function will return key and value pairs for the ID of the artist\n",
        "# and the name of the artist and will convert the ID into an integer.\n",
        "def user_info(data_set):\n",
        "  user_data = data_set.split(' ')\n",
        "  for i in range(len(user_data)):\n",
        "    user_data[0] = int(user_data[0])\n",
        "    user_data[1] = int(user_data[1])\n",
        "    user_data[2] = int(user_data[2])\n",
        "  return tuple(user_data)"
      ],
      "execution_count": 0,
      "outputs": []
    },
    {
      "cell_type": "markdown",
      "metadata": {
        "id": "Hn_A9TRRBonP",
        "colab_type": "text"
      },
      "source": [
        "# Processing Data: applying corresponding functions to the RDDs "
      ]
    },
    {
      "cell_type": "code",
      "metadata": {
        "id": "eLgWj3SCgDZF",
        "colab_type": "code",
        "colab": {}
      },
      "source": [
        "# Applies the artist_info function to the artist_data rdd\n",
        "artist_data = artist_data.map(lambda x: artist_info(x))\n",
        "\n",
        "# Applies the alias_info function to the artist_data rdd\n",
        "artist_alias = artist_alias.map(lambda x: alias_info(x))\n",
        "\n",
        "# Applies the user_info function to the user_artist_data rdd\n",
        "user_artist_data = user_artist_data.map(lambda x: user_info(x))\n",
        "\n",
        "# Collects only unique key and values from the artist_alias rdd\n",
        "artist_alias_map = artist_alias.collectAsMap()\n",
        "\n",
        "# Replaces the values of the user_artist_data rdd. With artist_alias_map,\n",
        "# the alias IDs get replaced for the correct IDs. \n",
        "user_artist_data = user_artist_data.map(lambda x: (x[0], artist_alias_map.get(x[1], x[1]), x[2]))\n"
      ],
      "execution_count": 0,
      "outputs": []
    },
    {
      "cell_type": "markdown",
      "metadata": {
        "id": "QXyb4y84B20K",
        "colab_type": "text"
      },
      "source": [
        "# Building the recommendation models using ALS implicit collaborative filtering"
      ]
    },
    {
      "cell_type": "code",
      "metadata": {
        "id": "aMPJiKjZY-mK",
        "colab_type": "code",
        "colab": {}
      },
      "source": [
        "# Building model\n",
        "plays = user_artist_data.map(lambda p: Rating(int(p[0]), int(p[1]), int(p[2])))\n",
        "recommendation_model = ALS.trainImplicit(plays, rank=10, seed=200)"
      ],
      "execution_count": 0,
      "outputs": []
    },
    {
      "cell_type": "markdown",
      "metadata": {
        "id": "Y8pgJtxp5Tpr",
        "colab_type": "text"
      },
      "source": [
        "# Defining the function to get the top 10 played artist of the user"
      ]
    },
    {
      "cell_type": "code",
      "metadata": {
        "id": "0f9Yf_bm5TXL",
        "colab_type": "code",
        "colab": {}
      },
      "source": [
        "def played_artists(user_id): \n",
        "  # Filters the artists played by the specified users with the number of plays\n",
        "  artist_data_testmap = artist_data.collectAsMap()\n",
        "  user_played_artists_test = plays.filter(lambda x: x.user == user_id).map(lambda x: (artist_data_testmap.get(x.product), x.rating))\n",
        "  # return the top 10 played artists by the user\n",
        "  return user_played_artists_test.sortBy(lambda x: x[1], False).take(10)"
      ],
      "execution_count": 0,
      "outputs": []
    },
    {
      "cell_type": "code",
      "metadata": {
        "id": "fxc-H1oPOQ5c",
        "colab_type": "code",
        "colab": {
          "base_uri": "https://localhost:8080/",
          "height": 204
        },
        "outputId": "a4acbbd4-5a44-4ffc-856e-d00bf0af7df7"
      },
      "source": [
        "print('Played artist by user 1055449')\n",
        "played_artists(1055449)"
      ],
      "execution_count": 13,
      "outputs": [
        {
          "output_type": "stream",
          "text": [
            "Played artist by user 1055449\n"
          ],
          "name": "stdout"
        },
        {
          "output_type": "execute_result",
          "data": {
            "text/plain": [
              "[('Pearl Jam', 4957),\n",
              " ('Queens of the Stone Age', 4697),\n",
              " ('Foo Fighters', 3635),\n",
              " ('A Perfect Circle', 1967),\n",
              " ('Tool', 1637),\n",
              " ('Radiohead', 1254),\n",
              " ('Jethro Tull', 1185),\n",
              " ('The Smashing Pumpkins', 1098),\n",
              " ('Desert Sessions', 974),\n",
              " ('The Black Crowes', 893)]"
            ]
          },
          "metadata": {
            "tags": []
          },
          "execution_count": 13
        }
      ]
    },
    {
      "cell_type": "code",
      "metadata": {
        "id": "F0XBvYrsONlV",
        "colab_type": "code",
        "colab": {
          "base_uri": "https://localhost:8080/",
          "height": 204
        },
        "outputId": "23c09d31-3915-46a6-ae83-cf8fc0a0a096"
      },
      "source": [
        "print('Played artist by user 1059637')\n",
        "played_artists(1059637)"
      ],
      "execution_count": 14,
      "outputs": [
        {
          "output_type": "stream",
          "text": [
            "Played artist by user 1059637\n"
          ],
          "name": "stdout"
        },
        {
          "output_type": "execute_result",
          "data": {
            "text/plain": [
              "[('Something Corporate', 433060),\n",
              " ('My Chemical Romance', 155895),\n",
              " ('Bright Eyes', 19129),\n",
              " ('Straylight Run', 9294),\n",
              " ('Elliott Smith', 7665),\n",
              " ('Taking Back Sunday', 6880),\n",
              " ('The Movielife', 3462),\n",
              " ('Underoath', 3434),\n",
              " ('The Killers', 3091),\n",
              " ('Onelinedrawing', 2321)]"
            ]
          },
          "metadata": {
            "tags": []
          },
          "execution_count": 14
        }
      ]
    },
    {
      "cell_type": "markdown",
      "metadata": {
        "id": "OsCsZk0thqMq",
        "colab_type": "text"
      },
      "source": [
        "# Defining the function to output the recommendations for new artists the user has not played before"
      ]
    },
    {
      "cell_type": "code",
      "metadata": {
        "id": "2kuULePgCY7T",
        "colab_type": "code",
        "colab": {}
      },
      "source": [
        "def discovery_weekly(user_id):\n",
        "  # Filters the artists played by the specified users\n",
        "  artist_data_map = artist_data.collectAsMap()\n",
        "  user_played_artists = plays.filter(lambda x: x.user == user_id).map(lambda x: artist_data_map.get(x.product)).collect()\n",
        "  # Creates the recommendations using the recommendProducts function and appends it to a list\n",
        "  recommendations = map(lambda x: x.product, recommendation_model.recommendProducts(user_id, 100))\n",
        "  recommendations_list = []\n",
        "  for artist in recommendations:\n",
        "    recommendations_list.append(artist_data.lookup(artist)[0])\n",
        "  # Creates a list with all the recommended artists the user has not played yet\n",
        "  discovery_playlist = []\n",
        "  for i in range(len(recommendations_list)):\n",
        "    if recommendations_list[i] in user_played_artists:\n",
        "      continue\n",
        "    else:\n",
        "      if len(discovery_playlist) < 10:\n",
        "        discovery_playlist.append(recommendations_list[i])\n",
        "      else:\n",
        "        break\n",
        "\n",
        "  return discovery_playlist"
      ],
      "execution_count": 0,
      "outputs": []
    },
    {
      "cell_type": "code",
      "metadata": {
        "id": "uUiD7Gb5OWkB",
        "colab_type": "code",
        "colab": {
          "base_uri": "https://localhost:8080/",
          "height": 204
        },
        "outputId": "2ee8f8dc-704a-469f-abeb-b6b4bbb5ca86"
      },
      "source": [
        "# Calls the function and returns the list with the recommendations\n",
        "print('Recommended artists for user 1055449')\n",
        "discovery_weekly(1055449)"
      ],
      "execution_count": 16,
      "outputs": [
        {
          "output_type": "stream",
          "text": [
            "Recommended artists for user 1055449\n"
          ],
          "name": "stdout"
        },
        {
          "output_type": "execute_result",
          "data": {
            "text/plain": [
              "['The Cardigans',\n",
              " 'Counting Crows',\n",
              " 'Oasis',\n",
              " 'The Beach Boys',\n",
              " 'Moby',\n",
              " 'Portishead',\n",
              " 'Michael Jackson',\n",
              " 'Stevie Wonder',\n",
              " 'Beastie Boys',\n",
              " 'Björk']"
            ]
          },
          "metadata": {
            "tags": []
          },
          "execution_count": 16
        }
      ]
    },
    {
      "cell_type": "code",
      "metadata": {
        "id": "INknFJEEOW_C",
        "colab_type": "code",
        "colab": {
          "base_uri": "https://localhost:8080/",
          "height": 204
        },
        "outputId": "73151671-adc3-46b6-a5c6-12c11da72942"
      },
      "source": [
        "# Calls the function and returns the list with the recommendations\n",
        "print('Recommended artists for user 1059637')\n",
        "discovery_weekly(1059637)"
      ],
      "execution_count": 17,
      "outputs": [
        {
          "output_type": "stream",
          "text": [
            "Recommended artists for user 1059637\n"
          ],
          "name": "stdout"
        },
        {
          "output_type": "execute_result",
          "data": {
            "text/plain": [
              "['Bad Religion',\n",
              " 'Avenged Sevenfold',\n",
              " 'Lostprophets',\n",
              " 'Counting Crows',\n",
              " 'Eminem',\n",
              " 'Atreyu',\n",
              " 'Christina Aguilera',\n",
              " 'Unwritten Law',\n",
              " 'The Juliana Theory',\n",
              " 'Simple Plan']"
            ]
          },
          "metadata": {
            "tags": []
          },
          "execution_count": 17
        }
      ]
    }
  ]
}